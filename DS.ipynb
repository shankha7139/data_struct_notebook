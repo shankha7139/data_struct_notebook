{
 "cells": [
  {
   "cell_type": "code",
   "execution_count": 1,
   "id": "a5e69bf4",
   "metadata": {},
   "outputs": [],
   "source": [
    "#LINKED LIST INSERT"
   ]
  },
  {
   "cell_type": "code",
   "execution_count": 2,
   "id": "212c7220",
   "metadata": {},
   "outputs": [
    {
     "name": "stdout",
     "output_type": "stream",
     "text": [
      "2\n",
      "1\n",
      "3\n",
      "100\n"
     ]
    }
   ],
   "source": [
    "class Node:\n",
    "    def __init__(self,data):\n",
    "        self.data=data\n",
    "        self.ref=None\n",
    "class Linkedlist:\n",
    "    def __init__(self):\n",
    "        self.head=None\n",
    "        \n",
    "    def printll(self):\n",
    "        if self.head is None:\n",
    "            print(\"empty\")\n",
    "            \n",
    "        else:\n",
    "            n=self.head\n",
    "            while n is not None:\n",
    "                print(n.data)\n",
    "                n=n.ref\n",
    "    def add_begin(self,data):\n",
    "        new_node=Node(data)\n",
    "        new_node.ref= self.head\n",
    "        self.head=new_node\n",
    "        \n",
    "    def add_end(self,data):\n",
    "        new_node=Node(data)\n",
    "        if self.head is None:\n",
    "            self.head=new_node\n",
    "            \n",
    "        else:\n",
    "            n=self.head\n",
    "            while n.ref is not None:\n",
    "                n=n.ref\n",
    "            n.ref=new_node\n",
    "                \n",
    "    def add_after(self,data,x):\n",
    "        n=self.head\n",
    "        while n is not None:\n",
    "            if x ==n.data:\n",
    "                break\n",
    "                \n",
    "            n=n.ref\n",
    "        if n is None:\n",
    "            print(\"can not found node\")\n",
    "            \n",
    "        new_node=Node(data)\n",
    "        new_node.ref=n.ref\n",
    "        n.ref=new_node\n",
    "            \n",
    "            \n",
    "            \n",
    "        \n",
    "                \n",
    "ll1=Linkedlist()\n",
    "\n",
    "ll1.add_begin(1)\n",
    "ll1.add_begin(2)\n",
    "ll1.add_end(3)\n",
    "ll1.add_after(100,3)\n",
    "ll1.printll()\n",
    "    \n",
    "        \n",
    "        \n",
    "        "
   ]
  },
  {
   "cell_type": "code",
   "execution_count": 3,
   "id": "7e271697",
   "metadata": {},
   "outputs": [],
   "source": [
    "#DELETION OF LINKED LIST ELEMENTS"
   ]
  },
  {
   "cell_type": "code",
   "execution_count": 4,
   "id": "d4f95adb",
   "metadata": {},
   "outputs": [
    {
     "name": "stdout",
     "output_type": "stream",
     "text": [
      "5\n",
      "4\n",
      "3\n",
      "1\n"
     ]
    }
   ],
   "source": [
    "class Node:\n",
    "    def __init__(self,data):\n",
    "        self.data=data\n",
    "        self.ref=None\n",
    "class Linkedlist:\n",
    "    def __init__(self):\n",
    "        self.head=None\n",
    "        \n",
    "    def printll(self):\n",
    "        if self.head is None:\n",
    "            print(\"empty\")\n",
    "            \n",
    "        else:\n",
    "            n=self.head\n",
    "            while n is not None:\n",
    "                print(n.data)\n",
    "                n=n.ref\n",
    "    def add_begin(self,data):\n",
    "        new_node=Node(data)\n",
    "        new_node.ref= self.head\n",
    "        self.head=new_node\n",
    "        \n",
    "    def add_end(self,data):\n",
    "        new_node=Node(data)\n",
    "        if self.head is None:\n",
    "            self.head=new_node\n",
    "            \n",
    "        else:\n",
    "            n=self.head\n",
    "            while n.ref is not None:\n",
    "                n=n.ref\n",
    "            n.ref=new_node\n",
    "                \n",
    "    def add_after(self,data,x):\n",
    "        n=self.head\n",
    "        while n is not None:\n",
    "            if x ==n.data:\n",
    "                break\n",
    "                \n",
    "            n=n.ref\n",
    "        if n is None:\n",
    "            print(\"can not found node\")\n",
    "            \n",
    "        new_node=Node(data)\n",
    "        new_node.ref=n.ref\n",
    "        n.ref=new_node\n",
    "        \n",
    "    def del_begin(self):\n",
    "        if self.head is None:\n",
    "            print(\"empty linked list\")\n",
    "        else:\n",
    "            self.head=self.head.ref\n",
    "            \n",
    "    def del_end(self):\n",
    "\n",
    "        if self.head is None:\n",
    "            print(\"linked list is empty therfore n element to delete\")\n",
    "        else:  \n",
    "            n=self.head\n",
    "            while n.ref.ref is not None:\n",
    "                n=n.ref\n",
    "\n",
    "        n.ref=None\n",
    "        \n",
    "    def del_after(self,x):\n",
    "        if self.head==None:\n",
    "            print(\"empty linked list ..no deletion\")\n",
    "            \n",
    "        else:\n",
    "            n=self.head\n",
    "            while n.data is not x:\n",
    "                n=n.ref\n",
    "                \n",
    "            n.ref=n.ref.ref\n",
    "                \n",
    "            \n",
    "                \n",
    "\n",
    "            \n",
    "      \n",
    "                  \n",
    "ll1=Linkedlist()\n",
    "\n",
    "ll1.add_begin(1)\n",
    "ll1.add_begin(2)\n",
    "ll1.add_begin(3)\n",
    "ll1.add_begin(4)\n",
    "ll1.add_begin(5)\n",
    "ll1.del_after(3)\n",
    "\n",
    "\n",
    "ll1.printll()      "
   ]
  },
  {
   "cell_type": "code",
   "execution_count": 5,
   "id": "495500b3",
   "metadata": {},
   "outputs": [],
   "source": [
    "#doubly linked list addition"
   ]
  },
  {
   "cell_type": "code",
   "execution_count": 6,
   "id": "a8950e51",
   "metadata": {},
   "outputs": [
    {
     "name": "stdout",
     "output_type": "stream",
     "text": [
      "2\n",
      "1\n"
     ]
    }
   ],
   "source": [
    "class Node:\n",
    "    def __init__(self,data):\n",
    "        self.data=data\n",
    "        self.nref=None\n",
    "        self.pref=None\n",
    "        \n",
    "class Linkedlist:\n",
    "    def __init__(self):\n",
    "        self.head=None\n",
    "        \n",
    "    def printdoubleLL(self):\n",
    "        if self.head==None:\n",
    "            print(\"empty doublee linked list\")\n",
    "        n=self.head\n",
    "        while n is not None:\n",
    "            print(n.data)\n",
    "            n=n.nref\n",
    "            \n",
    "    def add_begin(self,data):\n",
    "        new_node=Node(data)\n",
    "        if self.head is None:\n",
    "            self.head=new_node\n",
    "            \n",
    "        else:\n",
    "            new_node.nref=self.head\n",
    "            self.head.pref=new_node\n",
    "            self.head=new_node\n",
    "            \n",
    "ll1=Linkedlist()\n",
    "\n",
    "ll1.add_begin(1)\n",
    "ll1.add_begin(2) \n",
    "\n",
    "ll1.printdoubleLL()"
   ]
  },
  {
   "cell_type": "code",
   "execution_count": 7,
   "id": "01a5f9f8",
   "metadata": {},
   "outputs": [],
   "source": [
    "#BINARY TREE-insert ,search and pre,post and in order traversell"
   ]
  },
  {
   "cell_type": "code",
   "execution_count": 8,
   "id": "92d3b1d8",
   "metadata": {},
   "outputs": [
    {
     "name": "stdout",
     "output_type": "stream",
     "text": [
      "preorder traversel--->\n",
      "1 4 2 3 7 8 12 \n",
      "inorder traversel--->\n",
      "1 2 3 4 7 8 12 \n",
      "postorder traversel--->\n",
      "3 2 12 8 7 4 1 "
     ]
    }
   ],
   "source": [
    "class bst:\n",
    "    def __init__(self,key):\n",
    "        self.key=key\n",
    "        self.lchild=None\n",
    "        self.rchild=None\n",
    "        \n",
    "      \n",
    "    \n",
    "    \n",
    "    def insert(self,data):\n",
    "        if self.key is None:\n",
    "            self.key=data\n",
    "            return\n",
    "        \n",
    "        if self.key==data:\n",
    "            return\n",
    "        \n",
    "        \n",
    "        if self.key>data:\n",
    "            if self.lchild:\n",
    "                self.lchild.insert(data)\n",
    "                \n",
    "            else:\n",
    "                self.lchild =bst(data)\n",
    "                \n",
    "        else:\n",
    "            if self.rchild:\n",
    "                self.rchild.insert(data)\n",
    "                \n",
    "            else:\n",
    "                self.rchild =bst(data)\n",
    "                \n",
    "    def search(self,data):\n",
    "        if self.key == data:\n",
    "            print(\"data found \")\n",
    "            return\n",
    "        if self.key > data:\n",
    "            if self.lchild:\n",
    "                self.lchild.search(data)\n",
    "                \n",
    "            else:print(\"data not present\")\n",
    "                \n",
    "        else:\n",
    "            if self.rchild:\n",
    "                self.rchild.search(data)\n",
    "                \n",
    "            else:print(\"data not present\")\n",
    "     \n",
    "    def preorder(self):\n",
    "        if self.key:\n",
    "            print(self.key,end=\" \")\n",
    "            if self.lchild:\n",
    "                self.lchild.preorder()\n",
    "                \n",
    "            if self.rchild:\n",
    "                self.rchild.preorder()\n",
    "                \n",
    "        else:\n",
    "            print(\"empty tree\")\n",
    "                \n",
    "    def inorder(self):\n",
    "        if self.lchild:\n",
    "            self.lchild.inorder()\n",
    "                \n",
    "        print(self.key,end=' ')\n",
    "        \n",
    "        if self.rchild:\n",
    "            self.rchild.inorder()\n",
    "                \n",
    "    def postorder(self):\n",
    "        if self.lchild:\n",
    "            self.lchild.postorder()\n",
    "                \n",
    "        if self.rchild:\n",
    "            self.rchild.postorder()\n",
    "            \n",
    "        print(self.key,end=' ')\n",
    "                \n",
    "        \n",
    "\n",
    "        \n",
    "        \n",
    "root=bst(None)\n",
    "l=[1,4,7,2,8,12,3]\n",
    "for i in l:root.insert(i)\n",
    "print(\"preorder traversel--->\")\n",
    "root.preorder() \n",
    "print()\n",
    "print(\"inorder traversel--->\")\n",
    "root.inorder()   \n",
    "print()\n",
    "print(\"postorder traversel--->\")\n",
    "root.postorder()   \n",
    "\n",
    "#root.search(24)\n"
   ]
  },
  {
   "cell_type": "code",
   "execution_count": 9,
   "id": "2dc5a2d1",
   "metadata": {},
   "outputs": [],
   "source": [
    "#BINARY TREE-deletion of elements(except root node)"
   ]
  },
  {
   "cell_type": "code",
   "execution_count": 10,
   "id": "4b268a06",
   "metadata": {},
   "outputs": [
    {
     "name": "stdout",
     "output_type": "stream",
     "text": [
      "before\n",
      "1 4 2 3 7 8 12 \n",
      "after\n",
      "1 4 2 7 8 12 "
     ]
    }
   ],
   "source": [
    "class bst:\n",
    "    def __init__(self,key):\n",
    "        self.key=key\n",
    "        self.lchild=None\n",
    "        self.rchild=None\n",
    "        \n",
    "      \n",
    "    \n",
    "    \n",
    "    def insert(self,data):\n",
    "        if self.key is None:\n",
    "            self.key=data\n",
    "            return\n",
    "        \n",
    "        if self.key==data:\n",
    "            return\n",
    "        \n",
    "        \n",
    "        if self.key>data:\n",
    "            if self.lchild:\n",
    "                self.lchild.insert(data)\n",
    "                \n",
    "            else:\n",
    "                self.lchild =bst(data)\n",
    "                \n",
    "        else:\n",
    "            if self.rchild:\n",
    "                self.rchild.insert(data)\n",
    "                \n",
    "            else:\n",
    "                self.rchild =bst(data)\n",
    "                \n",
    "   \n",
    "    def preorder(self):\n",
    "        if self.key:\n",
    "            print(self.key,end=\" \")\n",
    "            if self.lchild:\n",
    "                self.lchild.preorder()\n",
    "                \n",
    "            if self.rchild:\n",
    "                self.rchild.preorder()\n",
    "                \n",
    "        else:\n",
    "            print(\"empty tree\")\n",
    "            \n",
    "            \n",
    "    def delete(self,data):\n",
    "        if self.key is None:\n",
    "            print(\"empty tree..\")\n",
    "            return\n",
    "        if data< self.key:\n",
    "            if self.lchild:\n",
    "                self.lchild=self.lchild.delete(data)\n",
    "            else:\n",
    "                print(\"given node not present\")\n",
    "        elif data > self.key:\n",
    "            if self.rchild:\n",
    "                self.rchild=self.rchild.delete(data)\n",
    "            else:\n",
    "                print(\"given node not present\")\n",
    "                \n",
    "        else:\n",
    "            if self.lchild is None:\n",
    "                temp=self.rchild\n",
    "                self=None\n",
    "                return temp\n",
    "            \n",
    "            if self.rchild is None:\n",
    "                temp=self.lchild\n",
    "                self=None\n",
    "                return temp\n",
    "            \n",
    "            node=self.rchild\n",
    "            while node.lchild:\n",
    "                node=node.lchild\n",
    "                \n",
    "            self.key=node.key\n",
    "            self.rchild = self.rchild.delete(node.key)\n",
    "            \n",
    "        return self\n",
    "            \n",
    "                \n",
    "            \n",
    "        \n",
    "root=bst(None)\n",
    "l=[1,4,7,2,8,12,3]\n",
    "for i in l:root.insert(i)\n",
    "print(\"before\")   \n",
    "root.preorder()\n",
    "\n",
    "root.delete(3)\n",
    "print()\n",
    "print(\"after\")\n",
    "root.preorder()\n",
    "\n"
   ]
  },
  {
   "cell_type": "code",
   "execution_count": 11,
   "id": "fe323578",
   "metadata": {},
   "outputs": [],
   "source": [
    "#BINARY TREE -maximum and minimum values in a binary tree"
   ]
  },
  {
   "cell_type": "code",
   "execution_count": 12,
   "id": "ddd6fae1",
   "metadata": {},
   "outputs": [
    {
     "name": "stdout",
     "output_type": "stream",
     "text": [
      "maximum value--->\n",
      "176\n",
      "\n",
      "minimum value-->\n",
      "1\n"
     ]
    }
   ],
   "source": [
    "class bst:\n",
    "    def __init__(self,key):\n",
    "        self.key=key\n",
    "        self.lchild=None\n",
    "        self.rchild=None\n",
    "        \n",
    "      \n",
    "    \n",
    "    \n",
    "    def insert(self,data):\n",
    "        if self.key is None:\n",
    "            self.key=data\n",
    "            return\n",
    "        \n",
    "        if self.key==data:\n",
    "            return\n",
    "        \n",
    "        \n",
    "        if self.key>data:\n",
    "            if self.lchild:\n",
    "                self.lchild.insert(data)\n",
    "                \n",
    "            else:\n",
    "                self.lchild =bst(data)\n",
    "                \n",
    "        else:\n",
    "            if self.rchild:\n",
    "                self.rchild.insert(data)\n",
    "                \n",
    "            else:\n",
    "                self.rchild =bst(data)\n",
    "                \n",
    "    def maxi(self):\n",
    "        if self.key:\n",
    "            if self.rchild:\n",
    "                self.key=self.rchild\n",
    "                self.key.maxi()\n",
    "                return\n",
    "                \n",
    "            print(self.key)\n",
    "            \n",
    "    def mini(self):\n",
    "        if self.key:\n",
    "            if self.lchild:\n",
    "                self.key=self.lchild\n",
    "                self.key.mini()\n",
    "                return\n",
    "            \n",
    "            print(self.key)\n",
    "        \n",
    "root=bst(176)\n",
    "l=[1,4,7,2,8,12,3,89]\n",
    "for i in l:root.insert(i)\n",
    "    \n",
    "print(\"maximum value--->\")\n",
    "root.maxi()\n",
    "print(\"\\nminimum value-->\")\n",
    "root.mini()\n"
   ]
  },
  {
   "cell_type": "code",
   "execution_count": 13,
   "id": "58e69736",
   "metadata": {},
   "outputs": [],
   "source": [
    "#HEAP DS---"
   ]
  },
  {
   "cell_type": "code",
   "execution_count": 14,
   "id": "d48caf5e",
   "metadata": {},
   "outputs": [],
   "source": [
    "import heapq\n",
    "heap=[]\n",
    "heapq.heappush(heap,10)\n",
    "heapq.heappush(heap,1)\n",
    "heapq.heappush(heap,5)"
   ]
  },
  {
   "cell_type": "code",
   "execution_count": 15,
   "id": "7c55e99d",
   "metadata": {},
   "outputs": [
    {
     "data": {
      "text/plain": [
       "[1, 10, 5]"
      ]
     },
     "execution_count": 15,
     "metadata": {},
     "output_type": "execute_result"
    }
   ],
   "source": [
    "heap"
   ]
  },
  {
   "cell_type": "code",
   "execution_count": 16,
   "id": "730dbf7f",
   "metadata": {},
   "outputs": [
    {
     "data": {
      "text/plain": [
       "1"
      ]
     },
     "execution_count": 16,
     "metadata": {},
     "output_type": "execute_result"
    }
   ],
   "source": [
    "heapq.heappop(heap)"
   ]
  },
  {
   "cell_type": "code",
   "execution_count": 17,
   "id": "2f65f269",
   "metadata": {},
   "outputs": [
    {
     "data": {
      "text/plain": [
       "[5, 10]"
      ]
     },
     "execution_count": 17,
     "metadata": {},
     "output_type": "execute_result"
    }
   ],
   "source": [
    "heap"
   ]
  },
  {
   "cell_type": "code",
   "execution_count": 18,
   "id": "c76e8a3d",
   "metadata": {},
   "outputs": [],
   "source": [
    "l=[1,3,5,2,4,6,45]\n",
    "heapq.heapify(l)"
   ]
  },
  {
   "cell_type": "code",
   "execution_count": 19,
   "id": "a11aa50f",
   "metadata": {},
   "outputs": [
    {
     "data": {
      "text/plain": [
       "[1, 2, 5, 3, 4, 6, 45]"
      ]
     },
     "execution_count": 19,
     "metadata": {},
     "output_type": "execute_result"
    }
   ],
   "source": [
    "l"
   ]
  },
  {
   "cell_type": "code",
   "execution_count": 20,
   "id": "da404cc5",
   "metadata": {},
   "outputs": [
    {
     "data": {
      "text/plain": [
       "[2, 3, 5, 100, 4, 6, 45]"
      ]
     },
     "execution_count": 20,
     "metadata": {},
     "output_type": "execute_result"
    }
   ],
   "source": [
    "heapq.heapreplace(l,100)\n",
    "l"
   ]
  },
  {
   "cell_type": "code",
   "execution_count": 21,
   "id": "a03e984f",
   "metadata": {},
   "outputs": [
    {
     "data": {
      "text/plain": [
       "[2, 3]"
      ]
     },
     "execution_count": 21,
     "metadata": {},
     "output_type": "execute_result"
    }
   ],
   "source": [
    "heapq.nsmallest(2,l)#heapq.nsmallest(n,list)--returns n smallest numbers"
   ]
  },
  {
   "cell_type": "code",
   "execution_count": 22,
   "id": "977ef12e",
   "metadata": {},
   "outputs": [
    {
     "data": {
      "text/plain": [
       "[100, 45]"
      ]
     },
     "execution_count": 22,
     "metadata": {},
     "output_type": "execute_result"
    }
   ],
   "source": [
    "heapq.nlargest(2,l)"
   ]
  },
  {
   "cell_type": "code",
   "execution_count": 23,
   "id": "57a61b70",
   "metadata": {},
   "outputs": [],
   "source": [
    "#BINARY HEAP--priority queue"
   ]
  },
  {
   "cell_type": "code",
   "execution_count": 24,
   "id": "bfa57c5a",
   "metadata": {},
   "outputs": [
    {
     "name": "stdout",
     "output_type": "stream",
     "text": [
      "[(1, 'shankha'), (4, 'hahah'), (113, 'gaga')]\n",
      "(1, 'shankha')\n",
      "(4, 'hahah')\n",
      "(113, 'gaga')\n"
     ]
    }
   ],
   "source": [
    "list1=[(1,\"shankha\"),(4,'hahah'),(113,'gaga')]\n",
    "heapq.heapify(list1)\n",
    "print(list1)\n",
    "for i in range(len(list1)):\n",
    "    print(heapq.heappop(list1))"
   ]
  },
  {
   "cell_type": "code",
   "execution_count": 25,
   "id": "50b74b10",
   "metadata": {},
   "outputs": [],
   "source": [
    "#GRAPHS--DATA STRUCTURE--non-linear -DS"
   ]
  },
  {
   "cell_type": "code",
   "execution_count": 26,
   "id": "e3daa499",
   "metadata": {},
   "outputs": [],
   "source": [
    "#adding an weighted edge to the graph while adding vertex of  both directedd and non directed graphs"
   ]
  },
  {
   "cell_type": "code",
   "execution_count": 27,
   "id": "38ce1db6",
   "metadata": {},
   "outputs": [],
   "source": [
    "#adjacency matrix form(adding elements)"
   ]
  },
  {
   "cell_type": "code",
   "execution_count": 28,
   "id": "f97fdca0",
   "metadata": {},
   "outputs": [
    {
     "name": "stdout",
     "output_type": "stream",
     "text": [
      "graph before adding\n",
      "[]\n",
      "[]\n",
      "graph after adding\n",
      "[0, 0, 0]\n",
      "[0, 0, 0]\n",
      "[0, 0, 0]\n",
      "graph after adding edge\n",
      "[0, 5, 1]\n",
      "[5, 0, 0]\n",
      "[1, 0, 0]\n"
     ]
    }
   ],
   "source": [
    "\n",
    "def add_node(v):\n",
    "    global node_count\n",
    "    if v in nodes:\n",
    "        print('node is a;ready present--')\n",
    "        \n",
    "    else:\n",
    "        node_count+=1\n",
    "        nodes.append(v)\n",
    "        for n in graph:\n",
    "            n.append(0)\n",
    "            \n",
    "        temp=[]\n",
    "        for i in range(node_count):\n",
    "            temp.append(0)\n",
    "            \n",
    "        graph.append(temp)\n",
    "\n",
    "def add_edge_undirected(v1,v2,cost):\n",
    "    global node_count\n",
    "    if v1 not in nodes:\n",
    "        print(\"node not present\")\n",
    "        \n",
    "    elif v2 not in nodes:\n",
    "        print(\"node not present\")\n",
    "        \n",
    "    else:\n",
    "        index1=nodes.index(v1)\n",
    "        index2=nodes.index(v2)\n",
    "        for i in range(node_count):\n",
    "            for j in range(node_count):\n",
    "                if i==index1 and j == index2:\n",
    "                    graph[i][j]=cost\n",
    "                    graph[j][i]=cost\n",
    "                    \n",
    "                \n",
    "def add_edge_directed(v1,v2,cost):\n",
    "    global node_count\n",
    "    if v1 not in nodes:\n",
    "        print(\"node not present\")\n",
    "        \n",
    "    elif v2 not in nodes:\n",
    "        print(\"node not present\")\n",
    "        \n",
    "    else:\n",
    "        index1=nodes.index(v1)\n",
    "        index2=nodes.index(v2)\n",
    "        for i in range(node_count):\n",
    "            for j in range(node_count):\n",
    "                if i==index1 and j == index2:\n",
    "                    graph[i][j]=cost\n",
    "            \n",
    "\n",
    "    \n",
    "def print_nodes(graph):\n",
    "    global node_count\n",
    "    for i in range(node_count):\n",
    "        print(graph[i])\n",
    "nodes=[]\n",
    "graph=[]\n",
    "node_count=0\n",
    "print(\"graph before adding\")\n",
    "print(graph)\n",
    "print(nodes)\n",
    "add_node('A')\n",
    "add_node('B')\n",
    "add_node('C')\n",
    "\n",
    "print(\"graph after adding\")\n",
    "print_nodes(graph)\n",
    "add_edge_undirected('B','A',5)\n",
    "add_edge_undirected('A','C',1)\n",
    "print(\"graph after adding edge\")\n",
    "print_nodes(graph)\n",
    "\n",
    "\n",
    "#print(nodes)"
   ]
  },
  {
   "cell_type": "code",
   "execution_count": 29,
   "id": "bfb21993",
   "metadata": {},
   "outputs": [],
   "source": [
    "#adjacency list form(adding elements)"
   ]
  },
  {
   "cell_type": "code",
   "execution_count": 30,
   "id": "854e6e62",
   "metadata": {},
   "outputs": [
    {
     "name": "stdout",
     "output_type": "stream",
     "text": [
      "{'A': [['B', 10]], 'B': [], 'C': []}\n"
     ]
    }
   ],
   "source": [
    "def add_node(v):\n",
    "    global node_count\n",
    "    if v in graph:\n",
    "        print(\"node already present in graph\")\n",
    "        \n",
    "    else:\n",
    "        graph[v]=[]\n",
    "        node_count+=1\n",
    "\n",
    "def add_edge(v1,v2,cost):\n",
    "    global node_count\n",
    "    if v1 not in graph:\n",
    "        print(\"node not present\")\n",
    "        \n",
    "    elif v2 not in graph:\n",
    "        print(\"node not present\") \n",
    "    \n",
    "    else:\n",
    "        list1=[v2,cost]\n",
    "        list2=[v1,cost]\n",
    "        graph[v1].append(list1)\n",
    "        graph[v2].append(list2)\n",
    "        \n",
    "def add_edge_directed(v1,v2,cost):\n",
    "    global node_count\n",
    "    if v1 not in graph:\n",
    "        print(\"node not present\")\n",
    "        \n",
    "    elif v2 not in graph:\n",
    "        print(\"node not present\") \n",
    "    \n",
    "    else:\n",
    "        list1=[v2,cost]\n",
    "        graph[v1].append(list1)\n",
    "        \n",
    "        \n",
    "        \n",
    "def print_graph():\n",
    "        print(graph)\n",
    "node_count=0\n",
    "graph={}\n",
    "add_node('A')\n",
    "add_node('B')\n",
    "add_node('C')\n",
    "add_edge_directed('A','B',10)\n",
    "print_graph()\n"
   ]
  },
  {
   "cell_type": "code",
   "execution_count": 31,
   "id": "c5d1e4cc",
   "metadata": {},
   "outputs": [],
   "source": [
    "#adjacency matrix deletion of nodes and egdes"
   ]
  },
  {
   "cell_type": "code",
   "execution_count": 32,
   "id": "56936f45",
   "metadata": {},
   "outputs": [
    {
     "name": "stdout",
     "output_type": "stream",
     "text": [
      "graph before adding\n",
      "[]\n",
      "[]\n",
      "graph after adding\n",
      "[0, 0, 0, 0]\n",
      "[0, 0, 0, 0]\n",
      "[0, 0, 0, 0]\n",
      "[0, 0, 0, 0]\n",
      "graph after adding edge\n",
      "[0, 5, 1, 5]\n",
      "[5, 0, 0, 6]\n",
      "[1, 0, 0, 0]\n",
      "[5, 6, 0, 0]\n",
      "after deletion of edges----------------------\n",
      "[0, 0, 1, 5]\n",
      "[0, 0, 0, 6]\n",
      "[1, 0, 0, 0]\n",
      "[5, 6, 0, 0]\n",
      "after deletion of node----------------------\n",
      "[0, 0, 5]\n",
      "[0, 0, 6]\n",
      "[5, 6, 0]\n"
     ]
    }
   ],
   "source": [
    "\n",
    "def add_node(v):\n",
    "    global node_count\n",
    "    if v in nodes:\n",
    "        print('node is a;ready present--')\n",
    "        \n",
    "    else:\n",
    "        node_count+=1\n",
    "        nodes.append(v)\n",
    "        for n in graph:\n",
    "            n.append(0)\n",
    "            \n",
    "        temp=[]\n",
    "        for i in range(node_count):\n",
    "            temp.append(0)\n",
    "            \n",
    "        graph.append(temp)\n",
    "\n",
    "def add_edge_undirected(v1,v2,cost):\n",
    "    global node_count\n",
    "    if v1 not in nodes:\n",
    "        print(\"node not present\")\n",
    "        \n",
    "    elif v2 not in nodes:\n",
    "        print(\"node not present\")\n",
    "        \n",
    "    else:\n",
    "        index1=nodes.index(v1)\n",
    "        index2=nodes.index(v2)\n",
    "        for i in range(node_count):\n",
    "            for j in range(node_count):\n",
    "                if i==index1 and j == index2:\n",
    "                    graph[i][j]=cost\n",
    "                    graph[j][i]=cost\n",
    "                    \n",
    "                \n",
    "def add_edge_directed(v1,v2,cost):\n",
    "    global node_count\n",
    "    if v1 not in nodes:\n",
    "        print(\"node not present\")\n",
    "        \n",
    "    elif v2 not in nodes:\n",
    "        print(\"node not present\")\n",
    "        \n",
    "    else:\n",
    "        index1=nodes.index(v1)\n",
    "        index2=nodes.index(v2)\n",
    "        for i in range(node_count):\n",
    "            for j in range(node_count):\n",
    "                if i==index1 and j == index2:\n",
    "                    graph[i][j]=cost\n",
    "            \n",
    "\n",
    "def del_node(v):\n",
    "    global node_count\n",
    "    if v not in nodes:print(\"node not present\")\n",
    "        \n",
    "    else:\n",
    "        index1=nodes.index(v)\n",
    "        node_count-=1\n",
    "        nodes.remove(v)\n",
    "        graph.pop(index1)\n",
    "        for i in graph:\n",
    "            i.pop(index1)\n",
    "        \n",
    "        \n",
    "        \n",
    "        \n",
    "    \n",
    "            \n",
    "\n",
    "def del_edge(v1,v2):\n",
    "    global node_count\n",
    "    index1=nodes.index(v1)\n",
    "    index2=nodes.index(v2)\n",
    "    if graph[index1][index2]!=0 and graph[index1][index2]!=0:\n",
    "        for i in range(node_count):\n",
    "            for j in range(node_count):\n",
    "                if i==index1 and j ==index2:\n",
    "                    graph[i][j]=0\n",
    "                    graph[j][i]=0\n",
    "                    \n",
    "                    \n",
    "def print_nodes(graph):\n",
    "    global node_count\n",
    "    for i in range(node_count):\n",
    "        print(graph[i])\n",
    "nodes=[]\n",
    "graph=[]\n",
    "node_count=0\n",
    "print(\"graph before adding\")\n",
    "print(graph)\n",
    "print(nodes)\n",
    "add_node('A')\n",
    "add_node('B')\n",
    "add_node('C')\n",
    "add_node('D')\n",
    "print(\"graph after adding\")\n",
    "print_nodes(graph)\n",
    "add_edge_undirected('B','A',5)\n",
    "add_edge_undirected('A','C',1)\n",
    "add_edge_undirected('A','D',5)\n",
    "add_edge_undirected('B','D',6)\n",
    "print(\"graph after adding edge\")\n",
    "print_nodes(graph)\n",
    "del_edge('A','B')\n",
    "print(\"after deletion of edges----------------------\")\n",
    "print_nodes(graph)\n",
    "\n",
    "del_node('C')\n",
    "print(\"after deletion of node----------------------\")\n",
    "print_nodes(graph)\n",
    "\n",
    "\n",
    "\n",
    "#print(nodes)"
   ]
  },
  {
   "cell_type": "code",
   "execution_count": null,
   "id": "0716bc4b",
   "metadata": {},
   "outputs": [],
   "source": []
  }
 ],
 "metadata": {
  "kernelspec": {
   "display_name": "Python 3",
   "language": "python",
   "name": "python3"
  },
  "language_info": {
   "codemirror_mode": {
    "name": "ipython",
    "version": 3
   },
   "file_extension": ".py",
   "mimetype": "text/x-python",
   "name": "python",
   "nbconvert_exporter": "python",
   "pygments_lexer": "ipython3",
   "version": "3.9.0"
  }
 },
 "nbformat": 4,
 "nbformat_minor": 5
}
